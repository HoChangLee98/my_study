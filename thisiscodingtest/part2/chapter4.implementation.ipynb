{
 "cells": [
  {
   "cell_type": "code",
   "execution_count": 3,
   "metadata": {},
   "outputs": [],
   "source": [
    "import time\n",
    "# start_time = time.time()\n",
    "# end_time = time.time()\n",
    "# print(\"time : \", end_time - start_time)"
   ]
  },
  {
   "cell_type": "markdown",
   "metadata": {},
   "source": [
    "## Implementation\n"
   ]
  },
  {
   "cell_type": "markdown",
   "metadata": {},
   "source": [
    "### EX 4.1"
   ]
  },
  {
   "cell_type": "code",
   "execution_count": 2,
   "metadata": {},
   "outputs": [
    {
     "ename": "ValueError",
     "evalue": "invalid literal for int() with base 10: ''",
     "output_type": "error",
     "traceback": [
      "\u001b[1;31m---------------------------------------------------------------------------\u001b[0m",
      "\u001b[1;31mValueError\u001b[0m                                Traceback (most recent call last)",
      "\u001b[1;32m~\\AppData\\Local\\Temp\\ipykernel_30020\\4276717342.py\u001b[0m in \u001b[0;36m<module>\u001b[1;34m\u001b[0m\n\u001b[0;32m      1\u001b[0m \u001b[1;31m### 내 답안\u001b[0m\u001b[1;33m\u001b[0m\u001b[1;33m\u001b[0m\u001b[1;33m\u001b[0m\u001b[0m\n\u001b[1;32m----> 2\u001b[1;33m \u001b[0mN\u001b[0m \u001b[1;33m=\u001b[0m \u001b[0mint\u001b[0m\u001b[1;33m(\u001b[0m\u001b[0minput\u001b[0m\u001b[1;33m(\u001b[0m\u001b[1;33m)\u001b[0m\u001b[1;33m)\u001b[0m\u001b[1;33m\u001b[0m\u001b[1;33m\u001b[0m\u001b[0m\n\u001b[0m\u001b[0;32m      3\u001b[0m \u001b[0mmove\u001b[0m \u001b[1;33m=\u001b[0m \u001b[0mlist\u001b[0m\u001b[1;33m(\u001b[0m\u001b[0mmap\u001b[0m\u001b[1;33m(\u001b[0m\u001b[0mstr\u001b[0m\u001b[1;33m,\u001b[0m \u001b[0minput\u001b[0m\u001b[1;33m(\u001b[0m\u001b[1;33m)\u001b[0m\u001b[1;33m.\u001b[0m\u001b[0msplit\u001b[0m\u001b[1;33m(\u001b[0m\u001b[1;33m)\u001b[0m\u001b[1;33m)\u001b[0m\u001b[1;33m)\u001b[0m\u001b[1;33m\u001b[0m\u001b[1;33m\u001b[0m\u001b[0m\n\u001b[0;32m      4\u001b[0m \u001b[1;33m\u001b[0m\u001b[0m\n\u001b[0;32m      5\u001b[0m \u001b[0mstart_time\u001b[0m \u001b[1;33m=\u001b[0m \u001b[0mtime\u001b[0m\u001b[1;33m.\u001b[0m\u001b[0mtime\u001b[0m\u001b[1;33m(\u001b[0m\u001b[1;33m)\u001b[0m\u001b[1;33m\u001b[0m\u001b[1;33m\u001b[0m\u001b[0m\n",
      "\u001b[1;31mValueError\u001b[0m: invalid literal for int() with base 10: ''"
     ]
    }
   ],
   "source": [
    "### 내 답안\n",
    "N = int(input())\n",
    "move = list(map(str, input().split()))\n",
    "\n",
    "start_time = time.time()\n",
    "\n",
    "result = [1, 1]\n",
    "\n",
    "for step in move:\n",
    "    if step == \"R\":\n",
    "        result[1] += 1\n",
    "    elif step == \"L\":\n",
    "        result[1] -= 1\n",
    "    elif step == \"U\":\n",
    "        result[0] -= 1\n",
    "    elif step == \"D\":\n",
    "        result[0] += 1\n",
    "    \n",
    "    if result[0] < 1:\n",
    "        result[0] = 1\n",
    "    elif result[0] > N:\n",
    "        result[0] = N\n",
    "\n",
    "    if result[1] < 1:\n",
    "        result[1] = 1\n",
    "    elif result[1] > N:\n",
    "        result[1] = N\n",
    "\n",
    "print(f\"answer   : {result[0]} {result[1]}\")\n",
    "\n",
    "end_time = time.time()\n",
    "print(\"time     :\", end_time - start_time)"
   ]
  },
  {
   "cell_type": "code",
   "execution_count": null,
   "metadata": {},
   "outputs": [
    {
     "name": "stdout",
     "output_type": "stream",
     "text": [
      "answer   : 3 4\n",
      "time     : 0.0\n"
     ]
    }
   ],
   "source": [
    "### 답안\n",
    "N = int(input())\n",
    "plans = list(map(str, input().split()))\n",
    "\n",
    "start_time = time.time()\n",
    "\n",
    "x, y = 1, 1\n",
    "dx = [0, 0, -1, 1]\n",
    "dy = [-1, 1, 0, 0]\n",
    "move_types = [\"L\", \"R\", \"U\", \"D\"]\n",
    "\n",
    "for plan in plans:\n",
    "    for i in range(len(move_types)):\n",
    "        if plan == move_types[i]:\n",
    "            nx = x + dx[i]\n",
    "            ny = y + dy[i]\n",
    "    if nx < 1 or ny < 1 or nx > N or ny > N:\n",
    "        continue\n",
    "    \n",
    "    x, y = nx, ny\n",
    "\n",
    "print(f\"answer   : {x} {y}\")\n",
    "\n",
    "end_time = time.time()\n",
    "print(\"time     :\", end_time - start_time)"
   ]
  },
  {
   "cell_type": "markdown",
   "metadata": {},
   "source": [
    "### EX 4.2"
   ]
  },
  {
   "cell_type": "code",
   "execution_count": 7,
   "metadata": {},
   "outputs": [
    {
     "name": "stdout",
     "output_type": "stream",
     "text": [
      "answer   : 29250\n",
      "time     : 0.002533435821533203\n"
     ]
    }
   ],
   "source": [
    "## 내 답안\n",
    "N = int(input())\n",
    "\n",
    "start_time = time.time()\n",
    "\n",
    "result = 0\n",
    "\n",
    "## 분, 초\n",
    "for min in range(60):\n",
    "    for sec in range(60):        \n",
    "        if \"3\" in str(min) + str(sec):\n",
    "            result += 1    \n",
    "\n",
    "num = 0\n",
    "for n in range(N+1):\n",
    "    if \"3\" in str(n):\n",
    "        num += 1\n",
    "\n",
    "result = (N + 1 - num) * result + num * 60 * 60\n",
    "\n",
    "print(f\"answer   : {result}\")\n",
    "\n",
    "end_time = time.time()\n",
    "print(\"time     :\", end_time - start_time)"
   ]
  },
  {
   "cell_type": "code",
   "execution_count": 9,
   "metadata": {},
   "outputs": [
    {
     "name": "stdout",
     "output_type": "stream",
     "text": [
      "answer   : 29250\n",
      "time     : 0.04925370216369629\n"
     ]
    }
   ],
   "source": [
    "## 답안\n",
    "N = int(input())\n",
    "\n",
    "start_time = time.time()\n",
    "\n",
    "result = 0\n",
    "\n",
    "## 분, 초\n",
    "for h in range(N+1):\n",
    "    for min in range(60):\n",
    "        for sec in range(60):        \n",
    "            if \"3\" in str(h) + str(min) + str(sec):\n",
    "                result += 1    \n",
    "\n",
    "print(f\"answer   : {result}\")\n",
    "\n",
    "end_time = time.time()\n",
    "print(\"time     :\", end_time - start_time)"
   ]
  }
 ],
 "metadata": {
  "kernelspec": {
   "display_name": "tict",
   "language": "python",
   "name": "python3"
  },
  "language_info": {
   "codemirror_mode": {
    "name": "ipython",
    "version": 3
   },
   "file_extension": ".py",
   "mimetype": "text/x-python",
   "name": "python",
   "nbconvert_exporter": "python",
   "pygments_lexer": "ipython3",
   "version": "3.7.16"
  }
 },
 "nbformat": 4,
 "nbformat_minor": 2
}
