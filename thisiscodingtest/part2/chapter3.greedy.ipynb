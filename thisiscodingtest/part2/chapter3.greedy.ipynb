{
 "cells": [
  {
   "cell_type": "code",
   "execution_count": 2,
   "metadata": {},
   "outputs": [],
   "source": [
    "import time\n",
    "# start_time = time.time()\n",
    "# end_time = time.time()\n",
    "# print(\"time : \", end_time - start_time)"
   ]
  },
  {
   "cell_type": "markdown",
   "metadata": {},
   "source": [
    "## Greedy\n",
    "현재 상황에서 지금 당장 좋은 것만 고르는 방법  \n",
    "\"가장 큰 순서대로\" 혹은 \"가장 작은 순서대로\"와 같은 기준을 알게 모르게 제시해준다."
   ]
  },
  {
   "cell_type": "markdown",
   "metadata": {},
   "source": [
    "### EX1. 거스름돈\n",
    "500원, 100원, 50원, 10원  \n",
    "N : 10의 배수"
   ]
  },
  {
   "cell_type": "code",
   "execution_count": 3,
   "metadata": {},
   "outputs": [
    {
     "name": "stdout",
     "output_type": "stream",
     "text": [
      "answer   :  6\n",
      "time     :  0.0\n"
     ]
    }
   ],
   "source": [
    "start_time = time.time()\n",
    "\n",
    "change = 1260\n",
    "count = 0\n",
    "\n",
    "coin_types = [500, 100, 50, 10]\n",
    "\n",
    "for coin in coin_types:\n",
    "    count += change//coin\n",
    "    change %= coin\n",
    "\n",
    "print(\"answer   : \", count)\n",
    "\n",
    "end_time = time.time()\n",
    "print(\"time     : \", end_time - start_time)"
   ]
  },
  {
   "cell_type": "markdown",
   "metadata": {},
   "source": [
    "### 큰 수의 법칙"
   ]
  },
  {
   "cell_type": "code",
   "execution_count": 6,
   "metadata": {},
   "outputs": [
    {
     "name": "stdout",
     "output_type": "stream",
     "text": [
      "answer   :  28\n",
      "time     :  0.0009982585906982422\n"
     ]
    }
   ],
   "source": [
    "### 1안\n",
    "n, m, k = map(int, input().split())     ## 입력값 받기\n",
    "data = list(map(int, input().split()))  ## 입력값 받기\n",
    "\n",
    "## Start\n",
    "start_time = time.time()\n",
    "\n",
    "data.sort(reverse=True)     ## 데이터 정렬\n",
    "first = data[0]             ## 제일 큰 수 정의\n",
    "second = data[1]            ## 두 번째로 큰 수 정의\n",
    "\n",
    "result = 0                  ## 결과값 초기값 정의\n",
    "\n",
    "while True:                 ## m이 0이면 중단\n",
    "    for i in range(k):      ## k번 중복 가능하므로 k번 제일 큰 수 더하기\n",
    "        if m == 0:\n",
    "            break\n",
    "        result += first   \n",
    "        m -= 1              ## m = m - 1\n",
    "        \n",
    "    if m == 0:\n",
    "        break\n",
    "    result += second        ## k번 합한 후 m이 0이 아니라면 두 번째로 큰 수 더하기\n",
    "    m -= 1\n",
    "    \n",
    "print(\"answer   : \", result)\n",
    "\n",
    "## End\n",
    "end_time = time.time()\n",
    "print(\"time     : \", end_time - start_time)"
   ]
  },
  {
   "cell_type": "code",
   "execution_count": 15,
   "metadata": {},
   "outputs": [
    {
     "name": "stdout",
     "output_type": "stream",
     "text": [
      "answer   :  46\n",
      "time     :  0.0010004043579101562\n"
     ]
    }
   ],
   "source": [
    "### 2안\n",
    "n, m, k = map(int, input().split())     ## 입력값 받기\n",
    "data = list(map(int, input().split()))  ## 입력값 받기\n",
    "\n",
    "## Start\n",
    "start_time = time.time()\n",
    "\n",
    "data.sort(reverse=True)     ## 데이터 정렬\n",
    "first = data[0]             ## 제일 큰 수 정의\n",
    "second = data[1]            ## 두 번째로 큰 수 정의\n",
    "\n",
    "count = m // (k+1) * k      ## 제일 큰 수가 더해지는 개수 구하기\n",
    "count += m % (k+1)          ## 제일 큰 수 k번과 그 다음 두 번째로 작은 수를 한 묶음으로 생각하기\n",
    "\n",
    "result = 0\n",
    "result += count * first\n",
    "result += (m-count) * second\n",
    "    \n",
    "print(\"answer   : \", result)\n",
    "\n",
    "## End\n",
    "end_time = time.time()\n",
    "print(\"time     : \", end_time - start_time)"
   ]
  },
  {
   "cell_type": "markdown",
   "metadata": {},
   "source": [
    "### 숫자 카드 게임"
   ]
  },
  {
   "cell_type": "code",
   "execution_count": 27,
   "metadata": {},
   "outputs": [
    {
     "name": "stdout",
     "output_type": "stream",
     "text": [
      "answer   :  3\n",
      "time     :  0.0\n"
     ]
    }
   ],
   "source": [
    "### 내 답안\n",
    "N, M = map(int, input().split())     ## 입력값 받기\n",
    "\n",
    "data = []\n",
    "for i in range(N):\n",
    "    data.append(list(map(int, input().split())))  ## 입력값 받기\n",
    "\n",
    "## Start\n",
    "start_time = time.time()\n",
    "\n",
    "result = 0                                    ## 결과값 초기화\n",
    "min_value = []\n",
    "\n",
    "for i in range(N):\n",
    "    min_value.append(min(data[i]))\n",
    "result = max(result, max(min_value))\n",
    "\n",
    "print(\"answer   : \", result)\n",
    "\n",
    "## End\n",
    "end_time = time.time()\n",
    "print(\"time     : \", end_time - start_time)"
   ]
  },
  {
   "cell_type": "code",
   "execution_count": 23,
   "metadata": {},
   "outputs": [
    {
     "name": "stdout",
     "output_type": "stream",
     "text": [
      "answer   :  3\n",
      "time     :  0.0\n"
     ]
    }
   ],
   "source": [
    "### 답안\n",
    "N, M = map(int, input().split())     ## 입력값 받기\n",
    "\n",
    "data = []\n",
    "for i in range(N):\n",
    "    data.append(list(map(int, input().split())))  ## 입력값 받기\n",
    "\n",
    "## Start\n",
    "start_time = time.time()\n",
    "\n",
    "result = 0                                    ## 결과값 초기화\n",
    "\n",
    "for i in range(N):\n",
    "    min_value = 10001\n",
    "    for a in data[i]:\n",
    "        min_value = min(a, min_value)    \n",
    "    result = max(result, min_value)\n",
    "\n",
    "print(\"answer   : \", result)\n",
    "\n",
    "## End\n",
    "end_time = time.time()\n",
    "print(\"time     : \", end_time - start_time)"
   ]
  },
  {
   "cell_type": "markdown",
   "metadata": {},
   "source": [
    "### 1이 될 때까지"
   ]
  },
  {
   "cell_type": "code",
   "execution_count": 30,
   "metadata": {},
   "outputs": [
    {
     "name": "stdout",
     "output_type": "stream",
     "text": [
      "answer   :  0\n",
      "time     :  0.0010039806365966797\n"
     ]
    }
   ],
   "source": [
    "N, K = map(int, input().split())\n",
    "\n",
    "## Start\n",
    "start_time = time.time()\n",
    "result = 0\n",
    "\n",
    "while N == 1:\n",
    "    if N % K == 0:\n",
    "        for i in range(N//K):\n",
    "            N /= K\n",
    "            result += 1\n",
    "\n",
    "    while N % k == 0:        \n",
    "        N -= 1\n",
    "        result += 1\n",
    "            \n",
    "print(\"answer   : \", result)\n",
    "\n",
    "## End\n",
    "end_time = time.time()\n",
    "print(\"time     : \", end_time - start_time)"
   ]
  },
  {
   "cell_type": "code",
   "execution_count": null,
   "metadata": {},
   "outputs": [],
   "source": [
    " "
   ]
  }
 ],
 "metadata": {
  "kernelspec": {
   "display_name": "tict",
   "language": "python",
   "name": "python3"
  },
  "language_info": {
   "codemirror_mode": {
    "name": "ipython",
    "version": 3
   },
   "file_extension": ".py",
   "mimetype": "text/x-python",
   "name": "python",
   "nbconvert_exporter": "python",
   "pygments_lexer": "ipython3",
   "version": "3.7.16"
  }
 },
 "nbformat": 4,
 "nbformat_minor": 2
}
